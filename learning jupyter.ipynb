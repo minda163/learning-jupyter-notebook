{
 "cells": [
  {
   "cell_type": "markdown",
   "metadata": {
    "toc": true
   },
   "source": [
    "<h1>Table of Contents<span class=\"tocSkip\"></span></h1>\n",
    "<div class=\"toc\" style=\"margin-top: 1em;\"><ul class=\"toc-item\"><li><span><a href=\"#Markdown-单元格高级用法\" data-toc-modified-id=\"Markdown-单元格高级用法-1\"><span class=\"toc-item-num\">1&nbsp;&nbsp;</span>Markdown 单元格高级用法</a></span><ul class=\"toc-item\"><li><span><a href=\"#插入网络图片\" data-toc-modified-id=\"插入网络图片-1.1\"><span class=\"toc-item-num\">1.1&nbsp;&nbsp;</span>插入网络图片</a></span></li><li><span><a href=\"#插入本地图片\" data-toc-modified-id=\"插入本地图片-1.2\"><span class=\"toc-item-num\">1.2&nbsp;&nbsp;</span>插入本地图片</a></span></li><li><span><a href=\"#公式的显示\" data-toc-modified-id=\"公式的显示-1.3\"><span class=\"toc-item-num\">1.3&nbsp;&nbsp;</span>公式的显示</a></span></li><li><span><a href=\"#程序图片显示\" data-toc-modified-id=\"程序图片显示-1.4\"><span class=\"toc-item-num\">1.4&nbsp;&nbsp;</span>程序图片显示</a></span></li><li><span><a href=\"#改变字体\" data-toc-modified-id=\"改变字体-1.5\"><span class=\"toc-item-num\">1.5&nbsp;&nbsp;</span>改变字体</a></span><ul class=\"toc-item\"><li><span><a href=\"#字体颜色名列表\" data-toc-modified-id=\"字体颜色名列表-1.5.1\"><span class=\"toc-item-num\">1.5.1&nbsp;&nbsp;</span>字体颜色名列表</a></span></li><li><span><a href=\"#背景色\" data-toc-modified-id=\"背景色-1.5.2\"><span class=\"toc-item-num\">1.5.2&nbsp;&nbsp;</span>背景色</a></span></li></ul></li><li><span><a href=\"#换行\" data-toc-modified-id=\"换行-1.6\"><span class=\"toc-item-num\">1.6&nbsp;&nbsp;</span>换行</a></span></li></ul></li><li><span><a href=\"#jupyter附加功能\" data-toc-modified-id=\"jupyter附加功能-2\"><span class=\"toc-item-num\">2&nbsp;&nbsp;</span>jupyter附加功能</a></span><ul class=\"toc-item\"><li><span><a href=\"#jupyter添加目录\" data-toc-modified-id=\"jupyter添加目录-2.1\"><span class=\"toc-item-num\">2.1&nbsp;&nbsp;</span>jupyter添加目录</a></span><ul class=\"toc-item\"><li><span><a href=\"#按官方文件正常安装\" data-toc-modified-id=\"按官方文件正常安装-2.1.1\"><span class=\"toc-item-num\">2.1.1&nbsp;&nbsp;</span>按官方文件正常安装</a></span></li><li><span><a href=\"#我在安装过程中遇到的问题总结\" data-toc-modified-id=\"我在安装过程中遇到的问题总结-2.1.2\"><span class=\"toc-item-num\">2.1.2&nbsp;&nbsp;</span>我在安装过程中遇到的问题总结</a></span></li></ul></li><li><span><a href=\"#在jupyter上添加matlab-kernel\" data-toc-modified-id=\"在jupyter上添加matlab-kernel-2.2\"><span class=\"toc-item-num\">2.2&nbsp;&nbsp;</span>在jupyter上添加matlab kernel</a></span></li><li><span><a href=\"#关于Jupyter-Notebooks你该了解的10件事\" data-toc-modified-id=\"关于Jupyter-Notebooks你该了解的10件事-2.3\"><span class=\"toc-item-num\">2.3&nbsp;&nbsp;</span>关于Jupyter Notebooks你该了解的10件事</a></span></li></ul></li><li><span><a href=\"#python相关\" data-toc-modified-id=\"python相关-3\"><span class=\"toc-item-num\">3&nbsp;&nbsp;</span>python相关</a></span><ul class=\"toc-item\"><li><span><a href=\"#从本地导入python文件\" data-toc-modified-id=\"从本地导入python文件-3.1\"><span class=\"toc-item-num\">3.1&nbsp;&nbsp;</span>从本地导入python文件</a></span></li><li><span><a href=\"#从网络中导入python代码\" data-toc-modified-id=\"从网络中导入python代码-3.2\"><span class=\"toc-item-num\">3.2&nbsp;&nbsp;</span>从网络中导入python代码</a></span></li><li><span><a href=\"#jupyter中运行python文件\" data-toc-modified-id=\"jupyter中运行python文件-3.3\"><span class=\"toc-item-num\">3.3&nbsp;&nbsp;</span>jupyter中运行python文件</a></span></li><li><span><a href=\"#引用代码\" data-toc-modified-id=\"引用代码-3.4\"><span class=\"toc-item-num\">3.4&nbsp;&nbsp;</span>引用代码</a></span></li><li><span><a href=\"#收拢程序输出显示\" data-toc-modified-id=\"收拢程序输出显示-3.5\"><span class=\"toc-item-num\">3.5&nbsp;&nbsp;</span>收拢程序输出显示</a></span></li></ul></li></ul></div>"
   ]
  },
  {
   "cell_type": "markdown",
   "metadata": {},
   "source": [
    "# Markdown 单元格高级用法\n",
    "Markdown单元格：虽然它的类型是 markdown，但是这类单元格也接受 HTML 代码。可以在单元格类实现更加丰富的样式，添加图片，等等。"
   ]
  },
  {
   "cell_type": "markdown",
   "metadata": {
    "heading_collapsed": true
   },
   "source": [
    "## 插入网络图片"
   ]
  },
  {
   "cell_type": "markdown",
   "metadata": {
    "hidden": true
   },
   "source": [
    "例如，如果想在 notebook中添加Jupyter的 logo，将其大小设置为100px x 100px，并且放置在单元格左侧，可以这样编写：\n",
    "\n",
    "<img src=\"http://www.narutom.com/d/file/wallpaper/2007-08-28/0dda91d1353e25ecbabac9c0fd376de8.jpg\" style=\"width:300px;height:300px;float:left\">\n",
    "\n",
    "\n",
    "![结构](http://img.my.csdn.net/uploads/201304/16/1366077877_2992.JPG)"
   ]
  },
  {
   "cell_type": "markdown",
   "metadata": {
    "heading_collapsed": true
   },
   "source": [
    "## 插入本地图片"
   ]
  },
  {
   "cell_type": "markdown",
   "metadata": {
    "hidden": true
   },
   "source": [
    "直接写相对路径就好了，如：\n",
    "![龙猫](.\\铁路知识\\龙猫.jpg)\n",
    "\n",
    "绝对路径：是从盘符开始的路径，形如\n",
    "C:\\windows\\system32\\cmd.exe\n",
    "\n",
    "相对路径：是从当前路径开始的路径，假如当前路径为C:\\windows\n",
    "要描述上述路径，只需输入\n",
    "system32\\cmd.exe\n",
    "\n",
    "实际上，严格的相对路径写法应为\n",
    ".\\system32\\cmd.exe\n",
    "\n",
    "其中，.表示当前路径，在通道情况下可以省略，只有在特殊的情况下不能省略。\n",
    "假如当前路径为c:\\program files\n",
    "要调用上述命令，则需要输入\n",
    "..\\windows\\system32\\cmd.exe\n",
    "\n",
    "其中，..为父目录。\n",
    "当前路径如果为c:\\program files\\common files\n",
    "则需要输入\n",
    "..\\..\\windows\\system32\\cmd.exe\n",
    "\n",
    "另外，还有一种不包含盘符的特殊绝对路径，形如\n",
    "\\windows\\system32\\cmd.exe\n",
    "\n",
    "无论当前路径是什么，会自动地从当前盘的根目录开始查找指定的程序。"
   ]
  },
  {
   "cell_type": "markdown",
   "metadata": {},
   "source": [
    "## 公式的显示"
   ]
  },
  {
   "cell_type": "markdown",
   "metadata": {},
   "source": [
    "$e^{i\\pi} + 1 = 0$\n",
    "$$e^{i\\pi} + 1 = 0$$"
   ]
  },
  {
   "cell_type": "markdown",
   "metadata": {
    "collapsed": true,
    "heading_collapsed": true
   },
   "source": [
    "## 程序图片显示"
   ]
  },
  {
   "cell_type": "code",
   "execution_count": 4,
   "metadata": {
    "collapsed": false,
    "hidden": true
   },
   "outputs": [
    {
     "data": {
      "text/plain": [
       "[<matplotlib.lines.Line2D at 0x75bc908>]"
      ]
     },
     "execution_count": 4,
     "metadata": {},
     "output_type": "execute_result"
    },
    {
     "data": {
      "image/png": "[encoded data removed]",
      "text/plain": [
       "<matplotlib.figure.Figure at 0x8406320>"
      ]
     },
     "metadata": {},
     "output_type": "display_data"
    }
   ],
   "source": [
    "# 注意：如果在程序中使用了matplotlib绘图，有时候是不能直接显示出来的，这时候需要使用加%matplotlib inline\n",
    "# %matplotlib inline\n",
    "# 运行这句话后才能显示图片\n",
    "%matplotlib inline\n",
    "import matplotlib.pyplot as plt\n",
    "import numpy as np\n",
    "\n",
    "x = np.arange(20)\n",
    "y = x**2\n",
    "plt.plot(x, y)\n",
    "# plt.show()"
   ]
  },
  {
   "cell_type": "markdown",
   "metadata": {
    "hidden": true
   },
   "source": [
    "原因：which in turn relies on a user-specified graphical backend to draw on your screen. \n",
    "\n",
    "So before you can plot anything, you need to specify which backend Matplotlib should use. The simplest option is to use Jupyter’s magic command %matplotlib inline. This tells Jupyter to set up Matplotlib so it uses Jupyter’s own backend. Plots are then rendered within the notebook itself.\n",
    "\n",
    "Note that calling show() is optional in a Jupyter notebook, as Jupyter will automatically.\n",
    "\n",
    "摘自此书：*Hands-On Machine Learning with Scikit-Learn and TensorFlow*"
   ]
  },
  {
   "cell_type": "markdown",
   "metadata": {
    "heading_collapsed": true
   },
   "source": [
    "## 改变字体"
   ]
  },
  {
   "cell_type": "markdown",
   "metadata": {
    "hidden": true
   },
   "source": [
    "Jupyter Notebook中编辑文本用到的是Markdown，它是一种可以使用普通文本编辑器编写的标记语言。\n",
    "通过类似HTML的标记语法，它可以使普通文本内容具有一定的格式。它本身是不支持修改字体、字号与颜色等功能的！ \n",
    "但它内嵌HTML，接下来要讲的功能就需要使用内嵌HTML的方法来实现。\n",
    "字体，字号和颜色编辑如下代码\n",
    "1.\t<font face=\"黑体\"> 我是黑体字 </font>\n",
    "2.\t<font face=\"微软雅黑\"> 我是微软雅黑 </font>\n",
    "3.\t<font face=\"STCAIYUN\">我是华文彩云</font>\n",
    "4.\t<font color=#0099ff size=7 face=\"黑体\"> color=#0099ff size=72 face=\"黑体\" </font>\n",
    "5.\t<font color=#00ffff size=72> color=#00ffff </font>\n",
    "6.\t<font color=gray size=72> color=gray </font>\n",
    "7.\t\n",
    "8.\tSize：规定文本的尺寸大小。可能的值：从 1 到 7 的数字。浏览器默认值是 3 ；具体颜色分类及标记请参照：各种颜色"
   ]
  },
  {
   "cell_type": "markdown",
   "metadata": {
    "heading_collapsed": true,
    "hidden": true
   },
   "source": [
    "### 字体颜色名列表"
   ]
  },
  {
   "cell_type": "markdown",
   "metadata": {
    "hidden": true
   },
   "source": [
    "![color1](../GitHub/figure/color1.png)\n",
    "![color2](../GitHub/figure/color2.png)\n",
    "![color3](../GitHub/figure/color3.png)\n",
    "![color4](../GitHub/figure/color4.png)\n",
    "![color5](../GitHub/figure/color5.png)\n",
    "***\n",
    "|   颜色名   |十六进制颜色值|颜色|\n",
    "|--------------|--------------|-----|\n",
    "|AliceBlue    |#F0F8FF   |rgb(240, 248, 255)|\n",
    "|AntiqueWhite  |#FAEBD7   |rgb(250, 235, 215)|\n",
    "|Aqua       |#00FFFF   |rgb(0, 255, 255)|\n",
    "|Aquamarine   |#7FFFD4   |rgb(127, 255, 212)|\n",
    "|Azure\t#F0FFFF\trgb(240, 255, 255)|\n",
    "|Beige\t#F5F5DC\trgb(245, 245, 220)|\n",
    "|Bisque\t#FFE4C4\trgb(255, 228, 196)|\n",
    "|Black\t#000000\trgb(0, 0, 0)|\n",
    "|BlanchedAlmond\t#FFEBCD\trgb(255, 235, 205)|\n",
    "|Blue\t#0000FF\trgb(0, 0, 255)|\n",
    "|BlueViolet\t#8A2BE2\trgb(138, 43, 226)|\n",
    "|Brown\t#A52A2A\trgb(165, 42, 42)\n",
    "|BurlyWood\t#DEB887\trgb(222, 184, 135)\n",
    "|CadetBlue\t#5F9EA0\trgb(95, 158, 160)\n",
    "|Chartreuse\t#7FFF00\trgb(127, 255, 0)\n",
    "|Chocolate\t#D2691E\trgb(210, 105, 30)\n",
    "|Coral\t#FF7F50\trgb(255, 127, 80)\n",
    "|CornflowerBlue\t#6495ED\trgb(100, 149, 237)\n",
    "|Cornsilk\t#FFF8DC\trgb(255, 248, 220)\n",
    "|Crimson\t#DC143C\trgb(220, 20, 60)\n",
    "|Cyan\t#00FFFF\trgb(0, 255, 255)\n",
    "|DarkBlue\t#00008B\trgb(0, 0, 139)\n",
    "|DarkCyan\t#008B8B\trgb(0, 139, 139)\n",
    "|DarkGoldenRod\t#B8860B\trgb(184, 134, 11)\n",
    "|DarkGray\t#A9A9A9\trgb(169, 169, 169)\n",
    "DarkGreen\t#006400\trgb(0, 100, 0)\n",
    "DarkKhaki\t#BDB76B\trgb(189, 183, 107)\n",
    "DarkMagenta\t#8B008B\trgb(139, 0, 139)\n",
    "DarkOliveGreen\t#556B2F\trgb(85, 107, 47)\n",
    "Darkorange\t#FF8C00\trgb(255, 140, 0)\n",
    "DarkOrchid\t#9932CC\trgb(153, 50, 204)\n",
    "DarkRed\t#8B0000\trgb(139, 0, 0)\n",
    "DarkSalmon\t#E9967A\trgb(233, 150, 122)\n",
    "DarkSeaGreen\t#8FBC8F\trgb(143, 188, 143)\n",
    "DarkSlateBlue\t#483D8B\trgb(72, 61, 139)\n",
    "DarkSlateGray\t#2F4F4F\trgb(47, 79, 79)\n",
    "DarkTurquoise\t#00CED1\trgb(0, 206, 209)\n",
    "DarkViolet\t#9400D3\trgb(148, 0, 211)\n",
    "DeepPink\t#FF1493\trgb(255, 20, 147)\n",
    "DeepSkyBlue\t#00BFFF\trgb(0, 191, 255)\n",
    "DimGray\t#696969\trgb(105, 105, 105)\n",
    "DodgerBlue\t#1E90FF\trgb(30, 144, 255)\n",
    "Feldspar\t#D19275\trgb(209, 146, 117)\n",
    "FireBrick\t#B22222\trgb(178, 34, 34)\n",
    "FloralWhite\t#FFFAF0\trgb(255, 250, 240)\n",
    "ForestGreen\t#228B22\trgb(34, 139, 34)\n",
    "Fuchsia\t#FF00FF\trgb(255, 0, 255)\n",
    "Gainsboro\t#DCDCDC\trgb(220, 220, 220)\n",
    "GhostWhite\t#F8F8FF\trgb(248, 248, 255)\n",
    "Gold\t#FFD700\trgb(255, 215, 0)\n",
    "GoldenRod\t#DAA520\trgb(218, 165, 32)\n",
    "Gray\t#808080\trgb(128, 128, 128)\n",
    "Green\t#008000\trgb(0, 128, 0)\n",
    "GreenYellow\t#ADFF2F\trgb(173, 255, 47)\n",
    "HoneyDew\t#F0FFF0\trgb(240, 255, 240)\n",
    "HotPink\t#FF69B4\trgb(255, 105, 180)\n",
    "IndianRed\t#CD5C5C\trgb(205, 92, 92)\n",
    "Indigo\t#4B0082\trgb(75, 0, 130)\n",
    "Ivory\t#FFFFF0\trgb(255, 255, 240)\n",
    "Khaki\t#F0E68C\trgb(240, 230, 140)\n",
    "Lavender\t#E6E6FA\trgb(230, 230, 250)\n",
    "LavenderBlush\t#FFF0F5\trgb(255, 240, 245)\n",
    "LawnGreen\t#7CFC00\trgb(124, 252, 0)\n",
    "LemonChiffon\t#FFFACD\trgb(255, 250, 205)\n",
    "LightBlue\t#ADD8E6\trgb(173, 216, 230)\n",
    "LightCoral\t#F08080\trgb(240, 128, 128)\n",
    "LightCyan\t#E0FFFF\trgb(224, 255, 255)\n",
    "LightGoldenRodYellow\t#FAFAD2\trgb(250, 250, 210)\n",
    "LightGrey\t#D3D3D3\trgb(211, 211, 211)\n",
    "LightGreen\t#90EE90\trgb(144, 238, 144)\n",
    "LightPink\t#FFB6C1\trgb(255, 182, 193)\n",
    "LightSalmon\t#FFA07A\trgb(255, 160, 122)\n",
    "LightSeaGreen\t#20B2AA\trgb(32, 178, 170)\n",
    "LightSkyBlue\t#87CEFA\trgb(135, 206, 250)\n",
    "LightSlateBlue\t#8470FF\trgb(132, 112, 255)\n",
    "LightSlateGray\t#778899\trgb(119, 136, 153)\n",
    "LightSteelBlue\t#B0C4DE\trgb(176, 196, 222)\n",
    "LightYellow\t#FFFFE0\trgb(255, 255, 224)\n",
    "Lime\t#00FF00\trgb(0, 255, 0)\n",
    "LimeGreen\t#32CD32\trgb(50, 205, 50)\n",
    "Linen\t#FAF0E6\trgb(250, 240, 230)\n",
    "Magenta\t#FF00FF\trgb(255, 0, 255)\n",
    "Maroon\t#800000\trgb(128, 0, 0)\n",
    "MediumAquaMarine\t#66CDAA\trgb(102, 205, 170)\n",
    "MediumBlue\t#0000CD\trgb(0, 0, 205)\n",
    "MediumOrchid\t#BA55D3\trgb(186, 85, 211)\n",
    "MediumPurple\t#9370D8\trgb(147, 112, 216)\n",
    "MediumSeaGreen\t#3CB371\trgb(60, 179, 113)\n",
    "MediumSlateBlue\t#7B68EE\trgb(123, 104, 238)\n",
    "MediumSpringGreen\t#00FA9A\trgb(0, 250, 154)\n",
    "MediumTurquoise\t#48D1CC\trgb(72, 209, 204)\n",
    "MediumVioletRed\t#C71585\trgb(199, 21, 133)\n",
    "MidnightBlue\t#191970\trgb(25, 25, 112)\n",
    "MintCream\t#F5FFFA\trgb(245, 255, 250)\n",
    "MistyRose\t#FFE4E1\trgb(255, 228, 225)\n",
    "Moccasin\t#FFE4B5\trgb(255, 228, 181)\n",
    "NavajoWhite\t#FFDEAD\trgb(255, 222, 173)\n",
    "Navy\t#000080\trgb(0, 0, 128)\n",
    "OldLace\t#FDF5E6\trgb(253, 245, 230)\n",
    "Olive\t#808000\trgb(128, 128, 0)\n",
    "OliveDrab\t#6B8E23\trgb(107, 142, 35)\n",
    "Orange\t#FFA500\trgb(255, 165, 0)\n",
    "OrangeRed\t#FF4500\trgb(255, 69, 0)\n",
    "Orchid\t#DA70D6\trgb(218, 112, 214)\n",
    "PaleGoldenRod\t#EEE8AA\trgb(238, 232, 170)\n",
    "PaleGreen\t#98FB98\trgb(152, 251, 152)\n",
    "PaleTurquoise\t#AFEEEE\trgb(175, 238, 238)\n",
    "PaleVioletRed\t#D87093\trgb(216, 112, 147)\n",
    "PapayaWhip\t#FFEFD5\trgb(255, 239, 213)\n",
    "PeachPuff\t#FFDAB9\trgb(255, 218, 185)\n",
    "Peru\t#CD853F\trgb(205, 133, 63)\n",
    "Pink\t#FFC0CB\trgb(255, 192, 203)\n",
    "Plum\t#DDA0DD\trgb(221, 160, 221)\n",
    "PowderBlue\t#B0E0E6\trgb(176, 224, 230)\n",
    "Purple\t#800080\trgb(128, 0, 128)\n",
    "Red\t#FF0000\trgb(255, 0, 0)\n",
    "RosyBrown\t#BC8F8F\trgb(188, 143, 143)\n",
    "RoyalBlue\t#4169E1\trgb(65, 105, 225)\n",
    "SaddleBrown\t#8B4513\trgb(139, 69, 19)\n",
    "Salmon\t#FA8072\trgb(250, 128, 114)\n",
    "SandyBrown\t#F4A460\trgb(244, 164, 96)\n",
    "SeaGreen\t#2E8B57\trgb(46, 139, 87)\n",
    "SeaShell\t#FFF5EE\trgb(255, 245, 238)\n",
    "Sienna\t#A0522D\trgb(160, 82, 45)\n",
    "Silver\t#C0C0C0\trgb(192, 192, 192)\n",
    "SkyBlue\t#87CEEB\trgb(135, 206, 235)\n",
    "SlateBlue\t#6A5ACD\trgb(106, 90, 205)\n",
    "SlateGray\t#708090\trgb(112, 128, 144)\n",
    "Snow\t#FFFAFA\trgb(255, 250, 250)\n",
    "SpringGreen\t#00FF7F\trgb(0, 255, 127)\n",
    "SteelBlue\t#4682B4\trgb(70, 130, 180)\n",
    "Tan\t#D2B48C\trgb(210, 180, 140)\n",
    "Teal\t#008080\trgb(0, 128, 128)\n",
    "Thistle\t#D8BFD8\trgb(216, 191, 216)\n",
    "Tomato\t#FF6347\trgb(255, 99, 71)\n",
    "Turquoise\t#40E0D0\trgb(64, 224, 208)\n",
    "Violet\t#EE82EE\trgb(238, 130, 238)\n",
    "VioletRed\t#D02090\trgb(208, 32, 144)\n",
    "Wheat\t#F5DEB3\trgb(245, 222, 179)\n",
    "White\t#FFFFFF\trgb(255, 255, 255)\n",
    "WhiteSmoke\t#F5F5F5\trgb(245, 245, 245)\n",
    "Yellow\t#FFFF00\trgb(255, 255, 0)\n",
    "YellowGreen\t#9ACD32\trgb(154, 205, 50)\n",
    "\n"
   ]
  },
  {
   "cell_type": "markdown",
   "metadata": {
    "heading_collapsed": true,
    "hidden": true
   },
   "source": [
    "### 背景色"
   ]
  },
  {
   "cell_type": "markdown",
   "metadata": {
    "hidden": true
   },
   "source": [
    "Markdown本身不支持背景色设置，需要采用内置html的方式实现：借助 table, tr, td 等表格标签的 bgcolor 属性来实现背景色的功能。  \n",
    "举例如下：<table><tr><td bgcolor=orange> 背景色是：orange 多学习HTML的编程方法</td></tr></table>"
   ]
  },
  {
   "cell_type": "markdown",
   "metadata": {
    "heading_collapsed": true
   },
   "source": [
    "## 换行"
   ]
  },
  {
   "cell_type": "markdown",
   "metadata": {
    "hidden": true
   },
   "source": [
    "方法1: 连续两个以上空格+回车  \n",
    "\n",
    "方法2：使用html语言换行标签：<br>\n",
    "他年我若修花史，<br>列作人间第一香\n",
    "\n",
    "Markdown 会把每行前面空四格的文本转换为代码块(即可以全选按Tab键)"
   ]
  },
  {
   "cell_type": "markdown",
   "metadata": {},
   "source": [
    "# jupyter附加功能"
   ]
  },
  {
   "cell_type": "markdown",
   "metadata": {
    "heading_collapsed": true
   },
   "source": [
    "## jupyter添加目录"
   ]
  },
  {
   "cell_type": "markdown",
   "metadata": {
    "hidden": true
   },
   "source": [
    "2017年12月26日添加失败！\n",
    "2017年12月17日照顾师母；\n",
    "2017年12月18日添加成功！  \n",
    "\n",
    "jupyter上安装的目录用法可以参考此网页：https://github.com/ipython-contrib/jupyter_contrib_nbextensions/tree/master/src/jupyter_contrib_nbextensions/nbextensions/toc2\n",
    "\n",
    "### 按官方文件正常安装\n",
    "一般按照官方文件能正常安装。  \n",
    "官方安装网址：https://github.com/ipython-contrib/jupyter_contrib_nbextensions  \n",
    "我选择的安装方式如下：  \n",
    "\n",
    "1、pip install jupyter_contrib_nbextensions\n",
    "![installContents1](./铁路知识/installContents1.png)\n",
    "2、jupyter contrib nbextension install --user\n",
    "![installContents2](./铁路知识/installContents22.png)\n",
    "3、打开jupyter，会出现Nbextensions选项卡\n",
    "![installContents3](./铁路知识/installContents3.png)\n",
    "4、filter一栏选择notebook后，勾线Table of Contents（2），最后点击enable，如下图所示\n",
    "![installContents4](./铁路知识/installContents4.png)\n",
    "5、打开文件就会出现目录选线卡了。\n",
    "![installContents5](./铁路知识/installContents5.png)\n",
    "6、安装成功。\n",
    "\n",
    "### 我在安装过程中遇到的问题总结\n",
    "1、要在关闭jupyter的情况下在控制台（cmd）进行操作（我怀疑这是我出错的原因，所以特别提醒）  \n",
    "\n",
    "2、安装的这一步*2、jupyter contrib nbextension install --user*报错  \n",
    "![installContents6](./铁路知识/installContents6.png)\n",
    "尝试了很多方法都没用：  \n",
    "\n",
    "- 关闭jupyter，重新安装\n",
    "- 换官网上其他的命令语句\n",
    "![installContents7](./铁路知识/installContents7.png)\n",
    "- 重启电脑  \n",
    "- 升级jupyter\n",
    "![installContents8](./铁路知识/installContents8.png)\n",
    "![installContents9](./铁路知识/installContents9.png)\n",
    "\n",
    "- 卸载anaconda，重新安装  \n",
    "\n",
    "做了以上尝试依然报错：\n",
    "![installContents10](./铁路知识/installContents10.png)\n",
    "\n",
    "3、最后在官网的issue上找到了解决办法  \n",
    "\n",
    "网址：https://github.com/ipython-contrib/jupyter_contrib_nbextensions/issues/1090  \n",
    "\n",
    "我和他的问题十分相似，就按他的办法试了一次，结果成功了。\n",
    "![installContents11](./铁路知识/installContents11.png)\n",
    "具体操作如下：\n",
    "- jupyter notebook list\n",
    "![installContents12](./铁路知识/installContents12.png)\n",
    "- Jupyter –path\n",
    "![installContents13](./铁路知识/installContents13.png)\n",
    "- 找到了这个文件夹，如下图所示：\n",
    "![installContents14](./铁路知识/installContents14.png)\n",
    "- 按名称排列后我就把 nbserver*.json file和kernel*.json files删除掉了，如下图所示：\n",
    "![installContents15](./铁路知识/installContents15.png)\n",
    "- 重启电脑\n",
    "- 依照官方文件，安装成功！"
   ]
  },
  {
   "cell_type": "markdown",
   "metadata": {
    "heading_collapsed": true
   },
   "source": [
    "## 在jupyter上添加matlab kernel "
   ]
  },
  {
   "cell_type": "markdown",
   "metadata": {
    "hidden": true
   },
   "source": [
    "自己的总结：  \n",
    "\n",
    "https://www.zhihu.com/question/65744778/answer/250421899"
   ]
  },
  {
   "cell_type": "markdown",
   "metadata": {},
   "source": [
    "## 关于Jupyter Notebooks你该了解的10件事\n",
    "（by Jakub Czakon）（视频学习笔记）\n"
   ]
  },
  {
   "cell_type": "code",
   "execution_count": null,
   "metadata": {
    "collapsed": true
   },
   "outputs": [],
   "source": []
  },
  {
   "cell_type": "code",
   "execution_count": null,
   "metadata": {
    "collapsed": true
   },
   "outputs": [],
   "source": []
  },
  {
   "cell_type": "markdown",
   "metadata": {},
   "source": [
    "# python相关"
   ]
  },
  {
   "cell_type": "markdown",
   "metadata": {
    "heading_collapsed": true
   },
   "source": [
    "## 从本地导入python文件"
   ]
  },
  {
   "cell_type": "code",
   "execution_count": 2,
   "metadata": {
    "collapsed": false,
    "hidden": true
   },
   "outputs": [
    {
     "name": "stdout",
     "output_type": "stream",
     "text": [
      "品颜完月的测试文件 3 0 0\n"
     ]
    }
   ],
   "source": [
    "# %load ../SpyderDocument/untitled0.py\n",
    "\"\"\"\n",
    "Created on Wed Nov  8 16:08:18 2017\n",
    "\n",
    "@author: Administrator\n",
    "\"\"\"\n",
    "m=3\n",
    "account = 0\n",
    "flag = 0\n",
    "print('品颜完月的测试文件',m,flag,account)"
   ]
  },
  {
   "cell_type": "markdown",
   "metadata": {
    "heading_collapsed": true
   },
   "source": [
    "## 从网络中导入python代码"
   ]
  },
  {
   "cell_type": "markdown",
   "metadata": {
    "hidden": true
   },
   "source": [
    "可以使用%load 网址"
   ]
  },
  {
   "cell_type": "markdown",
   "metadata": {
    "heading_collapsed": true
   },
   "source": [
    "## jupyter中运行python文件"
   ]
  },
  {
   "cell_type": "code",
   "execution_count": 3,
   "metadata": {
    "collapsed": false,
    "hidden": true
   },
   "outputs": [
    {
     "name": "stdout",
     "output_type": "stream",
     "text": [
      "品颜完月的测试文件 3 0 0\n"
     ]
    }
   ],
   "source": [
    "# jupyter中运行python文件\n",
    "% run ../SpyderDocument/untitled0.py"
   ]
  },
  {
   "cell_type": "markdown",
   "metadata": {
    "heading_collapsed": true
   },
   "source": [
    "## 引用代码"
   ]
  },
  {
   "cell_type": "markdown",
   "metadata": {
    "hidden": true
   },
   "source": [
    "在文章里优雅的引用代码：用两个‘英文输入法下的Esc下面的键’把代码包裹起来。  \n",
    "\n",
    "例如：  \n",
    "`\n",
    "m=3\n",
    "account = 0\n",
    "flag = 0\n",
    "print('品颜完月的测试文件',m,flag,account)\n",
    "`"
   ]
  },
  {
   "cell_type": "markdown",
   "metadata": {
    "heading_collapsed": true
   },
   "source": [
    "## 收拢程序输出显示"
   ]
  },
  {
   "cell_type": "markdown",
   "metadata": {
    "hidden": true
   },
   "source": [
    "来源：https://zhuanlan.zhihu.com/p/33654849   \n",
    "当你输出了大量的内容时，你可以通过单击输出区域左侧的面板来讲它们收拢，这样就可以通过滚动来查看了。如果双击，则会直接将所有的输出都收起来，不再展示。"
   ]
  },
  {
   "cell_type": "code",
   "execution_count": 2,
   "metadata": {
    "collapsed": true,
    "hidden": true
   },
   "outputs": [
    {
     "name": "stdout",
     "output_type": "stream",
     "text": [
      "2 3\n",
      "3 7\n",
      "4 15\n",
      "5 31\n",
      "6 63\n",
      "7 127\n",
      "8 255\n",
      "9 511\n",
      "10 1023\n",
      "11 2047\n",
      "12 4095\n",
      "13 8191\n",
      "14 16383\n",
      "15 32767\n",
      "16 65535\n",
      "17 131071\n",
      "18 262143\n",
      "19 524287\n",
      "20 1048575\n",
      "21 2097151\n",
      "22 4194303\n",
      "23 8388607\n",
      "24 16777215\n",
      "25 33554431\n",
      "26 67108863\n",
      "27 134217727\n",
      "28 268435455\n",
      "29 536870911\n",
      "30 1073741823\n",
      "31 2147483647\n",
      "32 -1\n",
      "33 -1\n",
      "34 -1\n",
      "35 -1\n",
      "36 -1\n",
      "37 -1\n",
      "38 -1\n",
      "39 -1\n",
      "40 -1\n",
      "41 -1\n",
      "42 -1\n",
      "43 -1\n",
      "44 -1\n",
      "45 -1\n",
      "46 -1\n",
      "47 -1\n",
      "48 -1\n",
      "49 -1\n",
      "50 -1\n",
      "51 -1\n",
      "52 -1\n",
      "53 -1\n",
      "54 -1\n",
      "55 -1\n",
      "56 -1\n",
      "57 -1\n",
      "58 -1\n",
      "59 -1\n",
      "60 -1\n",
      "61 -1\n",
      "62 -1\n",
      "63 -1\n",
      "64 -1\n",
      "65 -1\n",
      "66 -1\n",
      "67 -1\n",
      "68 -1\n",
      "69 -1\n",
      "70 -1\n",
      "71 -1\n",
      "72 -1\n",
      "73 -1\n",
      "74 -1\n",
      "75 -1\n",
      "76 -1\n",
      "77 -1\n",
      "78 -1\n",
      "79 -1\n",
      "80 -1\n",
      "81 -1\n",
      "82 -1\n",
      "83 -1\n",
      "84 -1\n",
      "85 -1\n",
      "86 -1\n",
      "87 -1\n",
      "88 -1\n",
      "89 -1\n",
      "90 -1\n",
      "91 -1\n",
      "92 -1\n",
      "93 -1\n",
      "94 -1\n",
      "95 -1\n",
      "96 -1\n",
      "97 -1\n",
      "98 -1\n",
      "99 -1\n"
     ]
    },
    {
     "name": "stderr",
     "output_type": "stream",
     "text": [
      "D:\\Anaconda3\\lib\\site-packages\\ipykernel\\__main__.py:3: RuntimeWarning: overflow encountered in long_scalars\n",
      "  app.launch_new_instance()\n"
     ]
    }
   ],
   "source": [
    "import numpy as np\n",
    "for p in np.arange(2,100):\n",
    "        q = 2**p-1\n",
    "        print(p,q)"
   ]
  },
  {
   "cell_type": "markdown",
   "metadata": {
    "hidden": true
   },
   "source": [
    "如果你想要在 notebook 中执行命令行语句，最简单的方式是在语句最前面加上一个感叹号。这种便利在执行一次性语句时尤为明显。"
   ]
  },
  {
   "cell_type": "code",
   "execution_count": null,
   "metadata": {
    "collapsed": true,
    "hidden": true
   },
   "outputs": [],
   "source": []
  }
 ],
 "metadata": {
  "anaconda-cloud": {},
  "kernelspec": {
   "display_name": "Python [conda root]",
   "language": "python",
   "name": "conda-root-py"
  },
  "language_info": {
   "codemirror_mode": {
    "name": "ipython",
    "version": 3
   },
   "file_extension": ".py",
   "mimetype": "text/x-python",
   "name": "python",
   "nbconvert_exporter": "python",
   "pygments_lexer": "ipython3",
   "version": "3.5.2"
  },
  "toc": {
   "nav_menu": {},
   "number_sections": true,
   "sideBar": true,
   "skip_h1_title": false,
   "toc_cell": true,
   "toc_position": {
    "height": "815px",
    "left": "0px",
    "right": "915.824px",
    "top": "107px",
    "width": "246px"
   },
   "toc_section_display": "block",
   "toc_window_display": true
  }
 },
 "nbformat": 4,
 "nbformat_minor": 2
}
